{
 "cells": [
  {
   "cell_type": "markdown",
   "id": "dd8551c9",
   "metadata": {},
   "source": [
    "# Task 1 :-\n",
    "## Prediction using Supervised ML\n",
    "    Predict the Percentage of the students based on the no. of study hours\n",
    "    It is just a simple linear Regression task as it just involve 2 variables\n",
    "    What will be the predicted score if the student study for 9.25hrs/day?"
   ]
  },
  {
   "cell_type": "markdown",
   "id": "fd4eca46",
   "metadata": {},
   "source": [
    "# Solution :-"
   ]
  },
  {
   "cell_type": "code",
   "execution_count": 16,
   "id": "c9f2aeab",
   "metadata": {},
   "outputs": [],
   "source": [
    "#importing libraries and dataset\n",
    "import numpy as np\n",
    "import pandas as pd\n",
    "import matplotlib.pyplot as plt\n",
    "from sklearn.metrics import r2_score\n"
   ]
  },
  {
   "cell_type": "code",
   "execution_count": 17,
   "id": "abf88fa1",
   "metadata": {},
   "outputs": [],
   "source": [
    "url=\"http://bit.ly/w-data\"\n",
    "df=pd.read_csv(url)"
   ]
  },
  {
   "cell_type": "code",
   "execution_count": 18,
   "id": "506c4011",
   "metadata": {},
   "outputs": [
    {
     "data": {
      "text/html": [
       "<div>\n",
       "<style scoped>\n",
       "    .dataframe tbody tr th:only-of-type {\n",
       "        vertical-align: middle;\n",
       "    }\n",
       "\n",
       "    .dataframe tbody tr th {\n",
       "        vertical-align: top;\n",
       "    }\n",
       "\n",
       "    .dataframe thead th {\n",
       "        text-align: right;\n",
       "    }\n",
       "</style>\n",
       "<table border=\"1\" class=\"dataframe\">\n",
       "  <thead>\n",
       "    <tr style=\"text-align: right;\">\n",
       "      <th></th>\n",
       "      <th>Hours</th>\n",
       "      <th>Scores</th>\n",
       "    </tr>\n",
       "  </thead>\n",
       "  <tbody>\n",
       "    <tr>\n",
       "      <th>0</th>\n",
       "      <td>2.5</td>\n",
       "      <td>21</td>\n",
       "    </tr>\n",
       "    <tr>\n",
       "      <th>1</th>\n",
       "      <td>5.1</td>\n",
       "      <td>47</td>\n",
       "    </tr>\n",
       "    <tr>\n",
       "      <th>2</th>\n",
       "      <td>3.2</td>\n",
       "      <td>27</td>\n",
       "    </tr>\n",
       "    <tr>\n",
       "      <th>3</th>\n",
       "      <td>8.5</td>\n",
       "      <td>75</td>\n",
       "    </tr>\n",
       "    <tr>\n",
       "      <th>4</th>\n",
       "      <td>3.5</td>\n",
       "      <td>30</td>\n",
       "    </tr>\n",
       "  </tbody>\n",
       "</table>\n",
       "</div>"
      ],
      "text/plain": [
       "   Hours  Scores\n",
       "0    2.5      21\n",
       "1    5.1      47\n",
       "2    3.2      27\n",
       "3    8.5      75\n",
       "4    3.5      30"
      ]
     },
     "execution_count": 18,
     "metadata": {},
     "output_type": "execute_result"
    }
   ],
   "source": [
    "df.head()"
   ]
  },
  {
   "cell_type": "code",
   "execution_count": 19,
   "id": "00ad7f67",
   "metadata": {},
   "outputs": [],
   "source": [
    "x=df[\"Hours\"]\n",
    "y=df[\"Scores\"]"
   ]
  },
  {
   "cell_type": "code",
   "execution_count": 20,
   "id": "de891b32",
   "metadata": {},
   "outputs": [
    {
     "data": {
      "text/plain": [
       "0    2.5\n",
       "1    5.1\n",
       "2    3.2\n",
       "3    8.5\n",
       "4    3.5\n",
       "Name: Hours, dtype: float64"
      ]
     },
     "execution_count": 20,
     "metadata": {},
     "output_type": "execute_result"
    }
   ],
   "source": [
    "x.head()"
   ]
  },
  {
   "cell_type": "code",
   "execution_count": 21,
   "id": "9df4e67c",
   "metadata": {},
   "outputs": [
    {
     "data": {
      "text/plain": [
       "0    21\n",
       "1    47\n",
       "2    27\n",
       "3    75\n",
       "4    30\n",
       "Name: Scores, dtype: int64"
      ]
     },
     "execution_count": 21,
     "metadata": {},
     "output_type": "execute_result"
    }
   ],
   "source": [
    "y.head()"
   ]
  },
  {
   "cell_type": "code",
   "execution_count": 22,
   "id": "5d08e259",
   "metadata": {},
   "outputs": [
    {
     "data": {
      "text/plain": [
       "0"
      ]
     },
     "execution_count": 22,
     "metadata": {},
     "output_type": "execute_result"
    }
   ],
   "source": [
    "#checking for null values if any\n",
    "x.isna().sum()"
   ]
  },
  {
   "cell_type": "code",
   "execution_count": 23,
   "id": "413da0ce",
   "metadata": {},
   "outputs": [
    {
     "data": {
      "text/plain": [
       "0"
      ]
     },
     "execution_count": 23,
     "metadata": {},
     "output_type": "execute_result"
    }
   ],
   "source": [
    "y.isna().sum()"
   ]
  },
  {
   "cell_type": "code",
   "execution_count": 24,
   "id": "fb2c78a2",
   "metadata": {},
   "outputs": [
    {
     "data": {
      "image/png": "[encoded data removed]",
      "text/plain": [
       "<Figure size 1000x500 with 1 Axes>"
      ]
     },
     "metadata": {
      "needs_background": "light"
     },
     "output_type": "display_data"
    }
   ],
   "source": [
    "#Since there are no null values therefore proceeding further\n",
    "#Now checking the relation between x and y using scatter plot\n",
    "fig, ax = plt.subplots(1, 1, figsize=(10, 5), dpi=100,)\n",
    "ax.scatter(x, y,  marker='.', s=100,color='indigo')\n",
    "plt.title(\"X VS Y\")\n",
    "plt.show()\n",
    "\n"
   ]
  },
  {
   "cell_type": "markdown",
   "id": "bcc0046a",
   "metadata": {},
   "source": [
    "# Linear Regression Model\n",
    "Here a Linear Regression model is created to to predict score on the basis of study hours per day"
   ]
  },
  {
   "cell_type": "code",
   "execution_count": 25,
   "id": "2177c2f9",
   "metadata": {},
   "outputs": [],
   "source": [
    "class LinearRegression :\n",
    "    def __init__(self):\n",
    "        theta_0=None\n",
    "        theta_1=None\n",
    "    def fit(self,x,y):\n",
    "        xbar=x.mean()\n",
    "        ybar=y.mean()\n",
    "        self.theta_1=((y-ybar)*(x-xbar)).sum()/((xbar-x)**2).sum()\n",
    "        self.theta_0=ybar-self.theta_1*xbar\n",
    "    def prediction(self,x):\n",
    "        y_hat=self.theta_1*x+self.theta_0\n",
    "        return y_hat\n",
    "    def error(self,y_hat,y):\n",
    "        error=float(((np.abs(y-y_hat)**2)).sum()/len(y))\n",
    "        return error\n",
    "    def accuracy(self,y,y_hat):\n",
    "        return r2_score(y,y_hat)\n",
    "    def ml_plot(self,x,y,r,error,accuracy):\n",
    "        plt.figure(dpi=100)\n",
    "        plt.scatter(x,y)\n",
    "        plt.title(f'r={r[0][1]:.2f} error={error:.2f} Accuracy={accuracy :.2f}')\n",
    "        "
   ]
  },
  {
   "cell_type": "code",
   "execution_count": 26,
   "id": "d8023462",
   "metadata": {},
   "outputs": [
    {
     "data": {
      "image/png": "[encoded data removed]",
      "text/plain": [
       "<Figure size 600x400 with 1 Axes>"
      ]
     },
     "metadata": {
      "needs_background": "light"
     },
     "output_type": "display_data"
    }
   ],
   "source": [
    "lin_model=LinearRegression()\n",
    "lin_model.fit(x,y)\n",
    "y_hat=lin_model.prediction(x)\n",
    "error=lin_model.error(y,y_hat)\n",
    "r=np.corrcoef(x,y)\n",
    "accuracy=lin_model.accuracy(y,y_hat)\n",
    "lin_model.ml_plot(x,y,r,error,accuracy)\n",
    "plt.scatter(x,y_hat,color='r')\n",
    "plt.show()"
   ]
  },
  {
   "cell_type": "code",
   "execution_count": 27,
   "id": "f106d444",
   "metadata": {},
   "outputs": [
    {
     "name": "stdout",
     "output_type": "stream",
     "text": [
      "Error :-  28.882730509245462\n"
     ]
    }
   ],
   "source": [
    "print(\"Error :- \",error)"
   ]
  },
  {
   "cell_type": "code",
   "execution_count": 28,
   "id": "d3f9fb5d",
   "metadata": {},
   "outputs": [
    {
     "name": "stdout",
     "output_type": "stream",
     "text": [
      "Accuracy:-  0.9529481969048356\n"
     ]
    }
   ],
   "source": [
    "print(\"Accuracy:- \",r2_score(y,y_hat))"
   ]
  },
  {
   "cell_type": "code",
   "execution_count": 29,
   "id": "08cdf968",
   "metadata": {},
   "outputs": [
    {
     "data": {
      "text/plain": [
       "92.90985477015731"
      ]
     },
     "execution_count": 29,
     "metadata": {},
     "output_type": "execute_result"
    }
   ],
   "source": [
    "lin_model.prediction(9.25)"
   ]
  },
  {
   "cell_type": "markdown",
   "id": "4dad5476",
   "metadata": {},
   "source": [
    "#### Therefore if a student studys for 9.25Hrs/day then he can score 92.90985477015731 marks"
   ]
  }
 ],
 "metadata": {
  "kernelspec": {
   "display_name": "Python 3 (ipykernel)",
   "language": "python",
   "name": "python3"
  },
  "language_info": {
   "codemirror_mode": {
    "name": "ipython",
    "version": 3
   },
   "file_extension": ".py",
   "mimetype": "text/x-python",
   "name": "python",
   "nbconvert_exporter": "python",
   "pygments_lexer": "ipython3",
   "version": "3.9.7"
  }
 },
 "nbformat": 4,
 "nbformat_minor": 5
}
